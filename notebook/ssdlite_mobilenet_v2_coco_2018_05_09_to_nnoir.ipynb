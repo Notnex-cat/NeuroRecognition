{
  "nbformat": 4,
  "nbformat_minor": 0,
  "metadata": {
    "colab": {
      "name": "ssdlite_mobilenet_v2_coco_2018_05_09_to_nnoir.ipynb",
      "provenance": []
    },
    "kernelspec": {
      "name": "python3",
      "display_name": "Python 3"
    },
    "language_info": {
      "name": "python"
    }
  },
  "cells": [
    {
      "cell_type": "markdown",
      "metadata": {
        "id": "5YWYSzlfrVig"
      },
      "source": [
        "## 1. Setup\n",
        "Install dependencies and clone TensorFlow Object Detection API"
      ]
    },
    {
      "cell_type": "code",
      "metadata": {
        "colab": {
          "base_uri": "https://localhost:8080/"
        },
        "id": "aGsB1hxqrwg7",
        "outputId": "b4d4ecc0-0f00-47d8-c54f-56e1910c7b0e"
      },
      "source": [
        "%tensorflow_version 2.x\n",
        "import tensorflow as tf\n",
        "print(tf.__version__)"
      ],
      "execution_count": 1,
      "outputs": [
        {
          "output_type": "stream",
          "name": "stdout",
          "text": [
            "Colab only includes TensorFlow 2.x; %tensorflow_version has no effect.\n",
            "2.17.1\n"
          ]
        }
      ]
    },
    {
      "cell_type": "code",
      "metadata": {
        "colab": {
          "base_uri": "https://localhost:8080/"
        },
        "id": "AzYA_m1o3kNA",
        "outputId": "eb775235-9c6e-4dab-d480-c62227505171"
      },
      "source": [
        "!pip install ensemble-boxes==1.0.6"
      ],
      "execution_count": 2,
      "outputs": [
        {
          "output_type": "stream",
          "name": "stdout",
          "text": [
            "Requirement already satisfied: ensemble-boxes==1.0.6 in /usr/local/lib/python3.10/dist-packages (1.0.6)\n",
            "Requirement already satisfied: numpy in /usr/local/lib/python3.10/dist-packages (from ensemble-boxes==1.0.6) (1.26.4)\n",
            "Requirement already satisfied: pandas in /usr/local/lib/python3.10/dist-packages (from ensemble-boxes==1.0.6) (2.2.2)\n",
            "Requirement already satisfied: numba in /usr/local/lib/python3.10/dist-packages (from ensemble-boxes==1.0.6) (0.60.0)\n",
            "Requirement already satisfied: llvmlite<0.44,>=0.43.0dev0 in /usr/local/lib/python3.10/dist-packages (from numba->ensemble-boxes==1.0.6) (0.43.0)\n",
            "Requirement already satisfied: python-dateutil>=2.8.2 in /usr/local/lib/python3.10/dist-packages (from pandas->ensemble-boxes==1.0.6) (2.8.2)\n",
            "Requirement already satisfied: pytz>=2020.1 in /usr/local/lib/python3.10/dist-packages (from pandas->ensemble-boxes==1.0.6) (2024.2)\n",
            "Requirement already satisfied: tzdata>=2022.7 in /usr/local/lib/python3.10/dist-packages (from pandas->ensemble-boxes==1.0.6) (2024.2)\n",
            "Requirement already satisfied: six>=1.5 in /usr/local/lib/python3.10/dist-packages (from python-dateutil>=2.8.2->pandas->ensemble-boxes==1.0.6) (1.16.0)\n"
          ]
        }
      ]
    },
    {
      "cell_type": "code",
      "metadata": {
        "colab": {
          "base_uri": "https://localhost:8080/"
        },
        "id": "83Z2gp_CC6uA",
        "outputId": "19565fcb-b0e8-4bb3-af42-37f7ea9f6488"
      },
      "source": [
        "!pip install -U tf2onnx==1.8.5"
      ],
      "execution_count": 3,
      "outputs": [
        {
          "output_type": "stream",
          "name": "stdout",
          "text": [
            "Requirement already satisfied: tf2onnx==1.8.5 in /usr/local/lib/python3.10/dist-packages (1.8.5)\n",
            "Requirement already satisfied: numpy>=1.14.1 in /usr/local/lib/python3.10/dist-packages (from tf2onnx==1.8.5) (1.26.4)\n",
            "Requirement already satisfied: onnx>=1.4.1 in /usr/local/lib/python3.10/dist-packages (from tf2onnx==1.8.5) (1.17.0)\n",
            "Requirement already satisfied: requests in /usr/local/lib/python3.10/dist-packages (from tf2onnx==1.8.5) (2.32.3)\n",
            "Requirement already satisfied: six in /usr/local/lib/python3.10/dist-packages (from tf2onnx==1.8.5) (1.16.0)\n",
            "Requirement already satisfied: flatbuffers~=1.12 in /usr/local/lib/python3.10/dist-packages (from tf2onnx==1.8.5) (1.12)\n",
            "Requirement already satisfied: protobuf>=3.20.2 in /usr/local/lib/python3.10/dist-packages (from onnx>=1.4.1->tf2onnx==1.8.5) (4.25.5)\n",
            "Requirement already satisfied: charset-normalizer<4,>=2 in /usr/local/lib/python3.10/dist-packages (from requests->tf2onnx==1.8.5) (3.4.0)\n",
            "Requirement already satisfied: idna<4,>=2.5 in /usr/local/lib/python3.10/dist-packages (from requests->tf2onnx==1.8.5) (3.10)\n",
            "Requirement already satisfied: urllib3<3,>=1.21.1 in /usr/local/lib/python3.10/dist-packages (from requests->tf2onnx==1.8.5) (2.2.3)\n",
            "Requirement already satisfied: certifi>=2017.4.17 in /usr/local/lib/python3.10/dist-packages (from requests->tf2onnx==1.8.5) (2024.8.30)\n"
          ]
        }
      ]
    },
    {
      "cell_type": "code",
      "metadata": {
        "colab": {
          "base_uri": "https://localhost:8080/"
        },
        "id": "YqspG8dcee6j",
        "outputId": "c6ec87be-ab57-4b88-af92-e64d2cf15480"
      },
      "source": [
        "!pip install nnoir-onnx==1.0.13"
      ],
      "execution_count": 4,
      "outputs": [
        {
          "output_type": "stream",
          "name": "stdout",
          "text": [
            "Requirement already satisfied: nnoir-onnx==1.0.13 in /usr/local/lib/python3.10/dist-packages (1.0.13)\n",
            "Requirement already satisfied: numpy in /usr/local/lib/python3.10/dist-packages (from nnoir-onnx==1.0.13) (1.26.4)\n",
            "Requirement already satisfied: msgpack in /usr/local/lib/python3.10/dist-packages (from nnoir-onnx==1.0.13) (1.1.0)\n",
            "Requirement already satisfied: onnx in /usr/local/lib/python3.10/dist-packages (from nnoir-onnx==1.0.13) (1.17.0)\n",
            "Requirement already satisfied: onnxruntime>=1.2.0 in /usr/local/lib/python3.10/dist-packages (from nnoir-onnx==1.0.13) (1.20.1)\n",
            "Requirement already satisfied: nnoir in /usr/local/lib/python3.10/dist-packages (from nnoir-onnx==1.0.13) (1.3.0)\n",
            "Requirement already satisfied: protobuf>=3.8 in /usr/local/lib/python3.10/dist-packages (from nnoir-onnx==1.0.13) (4.25.5)\n",
            "Requirement already satisfied: coloredlogs in /usr/local/lib/python3.10/dist-packages (from onnxruntime>=1.2.0->nnoir-onnx==1.0.13) (15.0.1)\n",
            "Requirement already satisfied: flatbuffers in /usr/local/lib/python3.10/dist-packages (from onnxruntime>=1.2.0->nnoir-onnx==1.0.13) (1.12)\n",
            "Requirement already satisfied: packaging in /usr/local/lib/python3.10/dist-packages (from onnxruntime>=1.2.0->nnoir-onnx==1.0.13) (24.2)\n",
            "Requirement already satisfied: sympy in /usr/local/lib/python3.10/dist-packages (from onnxruntime>=1.2.0->nnoir-onnx==1.0.13) (1.13.1)\n",
            "Requirement already satisfied: importlib-metadata<5,>=4 in /usr/local/lib/python3.10/dist-packages (from nnoir->nnoir-onnx==1.0.13) (4.13.0)\n",
            "Requirement already satisfied: zipp>=0.5 in /usr/local/lib/python3.10/dist-packages (from importlib-metadata<5,>=4->nnoir->nnoir-onnx==1.0.13) (3.21.0)\n",
            "Requirement already satisfied: humanfriendly>=9.1 in /usr/local/lib/python3.10/dist-packages (from coloredlogs->onnxruntime>=1.2.0->nnoir-onnx==1.0.13) (10.0)\n",
            "Requirement already satisfied: mpmath<1.4,>=1.1.0 in /usr/local/lib/python3.10/dist-packages (from sympy->onnxruntime>=1.2.0->nnoir-onnx==1.0.13) (1.3.0)\n"
          ]
        }
      ]
    },
    {
      "cell_type": "code",
      "metadata": {
        "colab": {
          "base_uri": "https://localhost:8080/"
        },
        "id": "sTw6sPDxWl1_",
        "outputId": "348bf7cb-5d66-4754-d9cf-315cf1e9dac7"
      },
      "source": [
        "!wget https://raw.githubusercontent.com/amikelive/coco-labels/master/coco-labels-paper.txt\n",
        "!wget http://download.tensorflow.org/models/object_detection/ssdlite_mobilenet_v2_coco_2018_05_09.tar.gz -P /content/\n",
        "!tar xfz /content/ssdlite_mobilenet_v2_coco_2018_05_09.tar.gz"
      ],
      "execution_count": 5,
      "outputs": [
        {
          "output_type": "stream",
          "name": "stdout",
          "text": [
            "--2024-12-06 09:24:38--  https://raw.githubusercontent.com/amikelive/coco-labels/master/coco-labels-paper.txt\n",
            "Resolving raw.githubusercontent.com (raw.githubusercontent.com)... 185.199.108.133, 185.199.109.133, 185.199.110.133, ...\n",
            "Connecting to raw.githubusercontent.com (raw.githubusercontent.com)|185.199.108.133|:443... connected.\n",
            "HTTP request sent, awaiting response... 200 OK\n",
            "Length: 702 [text/plain]\n",
            "Saving to: ‘coco-labels-paper.txt.1’\n",
            "\n",
            "\rcoco-labels-paper.t   0%[                    ]       0  --.-KB/s               \rcoco-labels-paper.t 100%[===================>]     702  --.-KB/s    in 0s      \n",
            "\n",
            "2024-12-06 09:24:38 (33.9 MB/s) - ‘coco-labels-paper.txt.1’ saved [702/702]\n",
            "\n",
            "--2024-12-06 09:24:38--  http://download.tensorflow.org/models/object_detection/ssdlite_mobilenet_v2_coco_2018_05_09.tar.gz\n",
            "Resolving download.tensorflow.org (download.tensorflow.org)... 172.217.12.27, 142.250.65.123, 172.217.15.251, ...\n",
            "Connecting to download.tensorflow.org (download.tensorflow.org)|172.217.12.27|:80... connected.\n",
            "HTTP request sent, awaiting response... 200 OK\n",
            "Length: 51025348 (49M) [application/x-tar]\n",
            "Saving to: ‘/content/ssdlite_mobilenet_v2_coco_2018_05_09.tar.gz.1’\n",
            "\n",
            "ssdlite_mobilenet_v 100%[===================>]  48.66M   240MB/s    in 0.2s    \n",
            "\n",
            "2024-12-06 09:24:39 (240 MB/s) - ‘/content/ssdlite_mobilenet_v2_coco_2018_05_09.tar.gz.1’ saved [51025348/51025348]\n",
            "\n"
          ]
        }
      ]
    },
    {
      "cell_type": "code",
      "metadata": {
        "colab": {
          "base_uri": "https://localhost:8080/"
        },
        "id": "3zDzg_5brqSA",
        "outputId": "e6f8fd0d-a878-4b0c-9812-1150cf3f871b"
      },
      "source": [
        "!git clone https://github.com/tensorflow/models.git\n",
        "%cd models/\n",
        "!git checkout 0ea84d6df6220552cd5229a0181c9e420f815408"
      ],
      "execution_count": 6,
      "outputs": [
        {
          "output_type": "stream",
          "name": "stdout",
          "text": [
            "Cloning into 'models'...\n",
            "remote: Enumerating objects: 98785, done.\u001b[K\n",
            "remote: Counting objects: 100% (1291/1291), done.\u001b[K\n",
            "remote: Compressing objects: 100% (672/672), done.\u001b[K\n",
            "remote: Total 98785 (delta 706), reused 1071 (delta 591), pack-reused 97494 (from 1)\u001b[K\n",
            "Receiving objects: 100% (98785/98785), 622.31 MiB | 21.18 MiB/s, done.\n",
            "Resolving deltas: 100% (71690/71690), done.\n",
            "/content/models\n",
            "Note: switching to '0ea84d6df6220552cd5229a0181c9e420f815408'.\n",
            "\n",
            "You are in 'detached HEAD' state. You can look around, make experimental\n",
            "changes and commit them, and you can discard any commits you make in this\n",
            "state without impacting any branches by switching back to a branch.\n",
            "\n",
            "If you want to create a new branch to retain commits you create, you may\n",
            "do so (now or later) by using -c with the switch command. Example:\n",
            "\n",
            "  git switch -c <new-branch-name>\n",
            "\n",
            "Or undo this operation with:\n",
            "\n",
            "  git switch -\n",
            "\n",
            "Turn off this advice by setting config variable advice.detachedHead to false\n",
            "\n",
            "HEAD is now at 0ea84d6df Changing the default number of channels for lighter-weight hourglass backbones.\n"
          ]
        }
      ]
    },
    {
      "cell_type": "code",
      "metadata": {
        "id": "NAlxjXAjrPfa"
      },
      "source": [
        "import os\n",
        "import math\n",
        "import subprocess\n",
        "import onnx\n",
        "import numpy as np\n",
        "import tensorflow as tf\n",
        "import cv2\n",
        "import nnoir\n",
        "from collections import namedtuple\n",
        "from PIL import Image, ImageDraw, ImageFont\n",
        "from ensemble_boxes import *"
      ],
      "execution_count": null,
      "outputs": []
    },
    {
      "cell_type": "code",
      "metadata": {
        "colab": {
          "base_uri": "https://localhost:8080/"
        },
        "id": "FurnyMdVs-gA",
        "outputId": "d072d586-ca1c-43ab-d880-645c156acaa7"
      },
      "source": [
        "%cd /content/models/research"
      ],
      "execution_count": 7,
      "outputs": [
        {
          "output_type": "stream",
          "name": "stdout",
          "text": [
            "/content/models/research\n"
          ]
        }
      ]
    },
    {
      "cell_type": "code",
      "metadata": {
        "colab": {
          "base_uri": "https://localhost:8080/"
        },
        "id": "VFmdRxkdw6Vs",
        "outputId": "15ed77d6-65ed-4686-9109-8ec426eed502"
      },
      "source": [
        "!apt --quiet update\n",
        "!apt install --quiet protobuf-compiler"
      ],
      "execution_count": 8,
      "outputs": [
        {
          "output_type": "stream",
          "name": "stdout",
          "text": [
            "Get:1 https://cloud.r-project.org/bin/linux/ubuntu jammy-cran40/ InRelease [3,626 B]\n",
            "Get:2 https://developer.download.nvidia.com/compute/cuda/repos/ubuntu2204/x86_64  InRelease [1,581 B]\n",
            "Get:3 http://security.ubuntu.com/ubuntu jammy-security InRelease [129 kB]\n",
            "Get:4 https://r2u.stat.illinois.edu/ubuntu jammy InRelease [6,555 B]\n",
            "Get:5 https://developer.download.nvidia.com/compute/cuda/repos/ubuntu2204/x86_64  Packages [1,192 kB]\n",
            "Hit:6 http://archive.ubuntu.com/ubuntu jammy InRelease\n",
            "Get:7 http://archive.ubuntu.com/ubuntu jammy-updates InRelease [128 kB]\n",
            "Hit:8 https://ppa.launchpadcontent.net/deadsnakes/ppa/ubuntu jammy InRelease\n",
            "Get:9 https://r2u.stat.illinois.edu/ubuntu jammy/main all Packages [8,525 kB]\n",
            "Hit:10 https://ppa.launchpadcontent.net/graphics-drivers/ppa/ubuntu jammy InRelease\n",
            "Hit:11 https://ppa.launchpadcontent.net/ubuntugis/ppa/ubuntu jammy InRelease\n",
            "Get:12 http://archive.ubuntu.com/ubuntu jammy-backports InRelease [127 kB]\n",
            "Get:13 http://security.ubuntu.com/ubuntu jammy-security/universe amd64 Packages [1,225 kB]\n",
            "Get:14 http://security.ubuntu.com/ubuntu jammy-security/main amd64 Packages [2,454 kB]\n",
            "Get:15 https://r2u.stat.illinois.edu/ubuntu jammy/main amd64 Packages [2,624 kB]\n",
            "Get:16 http://archive.ubuntu.com/ubuntu jammy-updates/restricted amd64 Packages [3,446 kB]\n",
            "Get:17 http://archive.ubuntu.com/ubuntu jammy-updates/multiverse amd64 Packages [53.3 kB]\n",
            "Get:18 http://archive.ubuntu.com/ubuntu jammy-updates/universe amd64 Packages [1,514 kB]\n",
            "Get:19 http://archive.ubuntu.com/ubuntu jammy-updates/main amd64 Packages [2,738 kB]\n",
            "Fetched 24.2 MB in 4s (6,067 kB/s)\n",
            "Reading package lists...\n",
            "Building dependency tree...\n",
            "Reading state information...\n",
            "50 packages can be upgraded. Run 'apt list --upgradable' to see them.\n",
            "\u001b[1;33mW: \u001b[0mSkipping acquire of configured file 'main/source/Sources' as repository 'https://r2u.stat.illinois.edu/ubuntu jammy InRelease' does not seem to provide it (sources.list entry misspelt?)\u001b[0m\n",
            "Reading package lists...\n",
            "Building dependency tree...\n",
            "Reading state information...\n",
            "protobuf-compiler is already the newest version (3.12.4-1ubuntu7.22.04.1).\n",
            "0 upgraded, 0 newly installed, 0 to remove and 50 not upgraded.\n"
          ]
        }
      ]
    },
    {
      "cell_type": "code",
      "metadata": {
        "colab": {
          "base_uri": "https://localhost:8080/"
        },
        "id": "gnf36OsRwpwI",
        "outputId": "c8bd467c-8ae1-49a7-9bf0-7af78860fd35"
      },
      "source": [
        "!protoc object_detection/protos/*.proto --python_out=.\n",
        "!cp object_detection/packages/tf1/setup.py .\n",
        "!python3 -m pip install ."
      ],
      "execution_count": 9,
      "outputs": [
        {
          "output_type": "stream",
          "name": "stdout",
          "text": [
            "Processing /content/models/research\n",
            "  Preparing metadata (setup.py) ... \u001b[?25l\u001b[?25hdone\n",
            "Requirement already satisfied: pillow in /usr/local/lib/python3.10/dist-packages (from object_detection==0.1) (11.0.0)\n",
            "Requirement already satisfied: lxml in /usr/local/lib/python3.10/dist-packages (from object_detection==0.1) (5.3.0)\n",
            "Requirement already satisfied: matplotlib in /usr/local/lib/python3.10/dist-packages (from object_detection==0.1) (3.8.0)\n",
            "Requirement already satisfied: Cython in /usr/local/lib/python3.10/dist-packages (from object_detection==0.1) (3.0.11)\n",
            "Collecting contextlib2 (from object_detection==0.1)\n",
            "  Downloading contextlib2-21.6.0-py2.py3-none-any.whl.metadata (4.1 kB)\n",
            "Requirement already satisfied: tf-slim in /usr/local/lib/python3.10/dist-packages (from object_detection==0.1) (1.1.0)\n",
            "Requirement already satisfied: six in /usr/local/lib/python3.10/dist-packages (from object_detection==0.1) (1.16.0)\n",
            "Requirement already satisfied: pycocotools in /usr/local/lib/python3.10/dist-packages (from object_detection==0.1) (2.0.8)\n",
            "Collecting lvis (from object_detection==0.1)\n",
            "  Downloading lvis-0.5.3-py3-none-any.whl.metadata (856 bytes)\n",
            "Requirement already satisfied: scipy in /usr/local/lib/python3.10/dist-packages (from object_detection==0.1) (1.13.1)\n",
            "Requirement already satisfied: pandas in /usr/local/lib/python3.10/dist-packages (from object_detection==0.1) (2.2.2)\n",
            "Requirement already satisfied: cycler>=0.10.0 in /usr/local/lib/python3.10/dist-packages (from lvis->object_detection==0.1) (0.12.1)\n",
            "Requirement already satisfied: kiwisolver>=1.1.0 in /usr/local/lib/python3.10/dist-packages (from lvis->object_detection==0.1) (1.4.7)\n",
            "Requirement already satisfied: numpy>=1.18.2 in /usr/local/lib/python3.10/dist-packages (from lvis->object_detection==0.1) (1.26.4)\n",
            "Requirement already satisfied: opencv-python>=4.1.0.25 in /usr/local/lib/python3.10/dist-packages (from lvis->object_detection==0.1) (4.10.0.84)\n",
            "Requirement already satisfied: pyparsing>=2.4.0 in /usr/local/lib/python3.10/dist-packages (from lvis->object_detection==0.1) (3.2.0)\n",
            "Requirement already satisfied: python-dateutil>=2.8.0 in /usr/local/lib/python3.10/dist-packages (from lvis->object_detection==0.1) (2.8.2)\n",
            "Requirement already satisfied: contourpy>=1.0.1 in /usr/local/lib/python3.10/dist-packages (from matplotlib->object_detection==0.1) (1.3.1)\n",
            "Requirement already satisfied: fonttools>=4.22.0 in /usr/local/lib/python3.10/dist-packages (from matplotlib->object_detection==0.1) (4.55.0)\n",
            "Requirement already satisfied: packaging>=20.0 in /usr/local/lib/python3.10/dist-packages (from matplotlib->object_detection==0.1) (24.2)\n",
            "Requirement already satisfied: pytz>=2020.1 in /usr/local/lib/python3.10/dist-packages (from pandas->object_detection==0.1) (2024.2)\n",
            "Requirement already satisfied: tzdata>=2022.7 in /usr/local/lib/python3.10/dist-packages (from pandas->object_detection==0.1) (2024.2)\n",
            "Requirement already satisfied: absl-py>=0.2.2 in /usr/local/lib/python3.10/dist-packages (from tf-slim->object_detection==0.1) (1.4.0)\n",
            "Downloading contextlib2-21.6.0-py2.py3-none-any.whl (13 kB)\n",
            "Downloading lvis-0.5.3-py3-none-any.whl (14 kB)\n",
            "Building wheels for collected packages: object_detection\n",
            "  Building wheel for object_detection (setup.py) ... \u001b[?25l\u001b[?25hdone\n",
            "  Created wheel for object_detection: filename=object_detection-0.1-py3-none-any.whl size=1628877 sha256=2856ebec449d37b948f5a424e3c45cf28352383f44c85eeadc15e852005f2b0a\n",
            "  Stored in directory: /tmp/pip-ephem-wheel-cache-bz5piux_/wheels/53/dd/70/2de274d6c443c69d367bd6a5606f95e5a6df61aacf1435ec0d\n",
            "Successfully built object_detection\n",
            "Installing collected packages: contextlib2, lvis, object_detection\n",
            "Successfully installed contextlib2-21.6.0 lvis-0.5.3 object_detection-0.1\n"
          ]
        }
      ]
    },
    {
      "cell_type": "code",
      "metadata": {
        "colab": {
          "base_uri": "https://localhost:8080/"
        },
        "id": "1YQ-XNdNxAWC",
        "outputId": "c9a115f9-6404-4cb6-939c-728a1c11dafd"
      },
      "source": [
        "!python3 object_detection/builders/model_builder_tf1_test.py"
      ],
      "execution_count": 10,
      "outputs": [
        {
          "output_type": "stream",
          "name": "stdout",
          "text": [
            "2024-12-06 09:25:32.402614: E external/local_xla/xla/stream_executor/cuda/cuda_fft.cc:485] Unable to register cuFFT factory: Attempting to register factory for plugin cuFFT when one has already been registered\n",
            "2024-12-06 09:25:32.443170: E external/local_xla/xla/stream_executor/cuda/cuda_dnn.cc:8454] Unable to register cuDNN factory: Attempting to register factory for plugin cuDNN when one has already been registered\n",
            "2024-12-06 09:25:32.455068: E external/local_xla/xla/stream_executor/cuda/cuda_blas.cc:1452] Unable to register cuBLAS factory: Attempting to register factory for plugin cuBLAS when one has already been registered\n",
            "2024-12-06 09:25:34.105632: W tensorflow/compiler/tf2tensorrt/utils/py_utils.cc:38] TF-TRT Warning: Could not find TensorRT\n",
            "Traceback (most recent call last):\n",
            "  File \"/content/models/research/object_detection/builders/model_builder_tf1_test.py\", line 21, in <module>\n",
            "    from object_detection.builders import model_builder\n",
            "  File \"/usr/local/lib/python3.10/dist-packages/object_detection/builders/model_builder.py\", line 20, in <module>\n",
            "    from object_detection.builders import anchor_generator_builder\n",
            "  File \"/usr/local/lib/python3.10/dist-packages/object_detection/builders/anchor_generator_builder.py\", line 27, in <module>\n",
            "    from object_detection.protos import anchor_generator_pb2\n",
            "  File \"/usr/local/lib/python3.10/dist-packages/object_detection/protos/anchor_generator_pb2.py\", line 14, in <module>\n",
            "    from object_detection.protos import flexible_grid_anchor_generator_pb2 as object__detection_dot_protos_dot_flexible__grid__anchor__generator__pb2\n",
            "  File \"/usr/local/lib/python3.10/dist-packages/object_detection/protos/flexible_grid_anchor_generator_pb2.py\", line 36, in <module>\n",
            "    _descriptor.FieldDescriptor(\n",
            "  File \"/usr/local/lib/python3.10/dist-packages/google/protobuf/descriptor.py\", line 553, in __new__\n",
            "    _message.Message._CheckCalledFromGeneratedFile()\n",
            "TypeError: Descriptors cannot be created directly.\n",
            "If this call came from a _pb2.py file, your generated code is out of date and must be regenerated with protoc >= 3.19.0.\n",
            "If you cannot immediately regenerate your protos, some other possible workarounds are:\n",
            " 1. Downgrade the protobuf package to 3.20.x or lower.\n",
            " 2. Set PROTOCOL_BUFFERS_PYTHON_IMPLEMENTATION=python (but this will use pure-Python parsing and will be much slower).\n",
            "\n",
            "More information: https://developers.google.com/protocol-buffers/docs/news/2022-05-06#python-updates\n"
          ]
        }
      ]
    },
    {
      "cell_type": "markdown",
      "metadata": {
        "id": "S0caEzVJphzk"
      },
      "source": [
        "## 2. Create TensorFlow Lite Model\n",
        "set add_postprocessing_op=False"
      ]
    },
    {
      "cell_type": "code",
      "metadata": {
        "id": "c28nGBRitDXa",
        "colab": {
          "base_uri": "https://localhost:8080/"
        },
        "outputId": "cbe68974-9c40-479c-b1eb-457ad83f81b7"
      },
      "source": [
        "!python /content/models/research/object_detection/export_tflite_ssd_graph.py \\\n",
        "--pipeline_config_path=/content/ssdlite_mobilenet_v2_coco_2018_05_09/pipeline.config \\\n",
        "--trained_checkpoint_prefix=/content/ssdlite_mobilenet_v2_coco_2018_05_09/model.ckpt \\\n",
        "--output_directory=/content \\\n",
        "--add_postprocessing_op=False"
      ],
      "execution_count": 11,
      "outputs": [
        {
          "output_type": "stream",
          "name": "stdout",
          "text": [
            "2024-12-06 09:25:45.428996: E external/local_xla/xla/stream_executor/cuda/cuda_fft.cc:485] Unable to register cuFFT factory: Attempting to register factory for plugin cuFFT when one has already been registered\n",
            "2024-12-06 09:25:45.462044: E external/local_xla/xla/stream_executor/cuda/cuda_dnn.cc:8454] Unable to register cuDNN factory: Attempting to register factory for plugin cuDNN when one has already been registered\n",
            "2024-12-06 09:25:45.472410: E external/local_xla/xla/stream_executor/cuda/cuda_blas.cc:1452] Unable to register cuBLAS factory: Attempting to register factory for plugin cuBLAS when one has already been registered\n",
            "2024-12-06 09:25:48.152316: W tensorflow/compiler/tf2tensorrt/utils/py_utils.cc:38] TF-TRT Warning: Could not find TensorRT\n",
            "Traceback (most recent call last):\n",
            "  File \"/content/models/research/object_detection/export_tflite_ssd_graph.py\", line 97, in <module>\n",
            "    from object_detection import export_tflite_ssd_graph_lib\n",
            "  File \"/usr/local/lib/python3.10/dist-packages/object_detection/export_tflite_ssd_graph_lib.py\", line 27, in <module>\n",
            "    from object_detection import exporter\n",
            "  File \"/usr/local/lib/python3.10/dist-packages/object_detection/exporter.py\", line 24, in <module>\n",
            "    from object_detection.builders import model_builder\n",
            "  File \"/usr/local/lib/python3.10/dist-packages/object_detection/builders/model_builder.py\", line 20, in <module>\n",
            "    from object_detection.builders import anchor_generator_builder\n",
            "  File \"/usr/local/lib/python3.10/dist-packages/object_detection/builders/anchor_generator_builder.py\", line 27, in <module>\n",
            "    from object_detection.protos import anchor_generator_pb2\n",
            "  File \"/usr/local/lib/python3.10/dist-packages/object_detection/protos/anchor_generator_pb2.py\", line 14, in <module>\n",
            "    from object_detection.protos import flexible_grid_anchor_generator_pb2 as object__detection_dot_protos_dot_flexible__grid__anchor__generator__pb2\n",
            "  File \"/usr/local/lib/python3.10/dist-packages/object_detection/protos/flexible_grid_anchor_generator_pb2.py\", line 36, in <module>\n",
            "    _descriptor.FieldDescriptor(\n",
            "  File \"/usr/local/lib/python3.10/dist-packages/google/protobuf/descriptor.py\", line 553, in __new__\n",
            "    _message.Message._CheckCalledFromGeneratedFile()\n",
            "TypeError: Descriptors cannot be created directly.\n",
            "If this call came from a _pb2.py file, your generated code is out of date and must be regenerated with protoc >= 3.19.0.\n",
            "If you cannot immediately regenerate your protos, some other possible workarounds are:\n",
            " 1. Downgrade the protobuf package to 3.20.x or lower.\n",
            " 2. Set PROTOCOL_BUFFERS_PYTHON_IMPLEMENTATION=python (but this will use pure-Python parsing and will be much slower).\n",
            "\n",
            "More information: https://developers.google.com/protocol-buffers/docs/news/2022-05-06#python-updates\n"
          ]
        }
      ]
    },
    {
      "cell_type": "code",
      "metadata": {
        "colab": {
          "base_uri": "https://localhost:8080/"
        },
        "id": "6sHlJW9D5WLT",
        "outputId": "ee7feb69-1c99-4153-a0e5-d3fba43352e6"
      },
      "source": [
        "!tflite_convert \\\n",
        "--graph_def_file=/content/tflite_graph.pb \\\n",
        "--output_file=/content/ssdlite_mobilenet_v2.tflite \\\n",
        "--input_format=TENSORFLOW_GRAPHDEF \\\n",
        "--output_format=TFLITE \\\n",
        "--inference_type=FLOAT \\\n",
        "--input_shapes=1,300,300,3 \\\n",
        "--input_arrays=normalized_input_image_tensor \\\n",
        "--output_arrays=raw_outputs/box_encodings,raw_outputs/class_predictions"
      ],
      "execution_count": 12,
      "outputs": [
        {
          "output_type": "stream",
          "name": "stdout",
          "text": [
            "2024-12-06 09:25:54.665400: E external/local_xla/xla/stream_executor/cuda/cuda_fft.cc:485] Unable to register cuFFT factory: Attempting to register factory for plugin cuFFT when one has already been registered\n",
            "2024-12-06 09:25:54.702524: E external/local_xla/xla/stream_executor/cuda/cuda_dnn.cc:8454] Unable to register cuDNN factory: Attempting to register factory for plugin cuDNN when one has already been registered\n",
            "2024-12-06 09:25:54.713347: E external/local_xla/xla/stream_executor/cuda/cuda_blas.cc:1452] Unable to register cuBLAS factory: Attempting to register factory for plugin cuBLAS when one has already been registered\n",
            "2024-12-06 09:25:58.580265: W tensorflow/compiler/tf2tensorrt/utils/py_utils.cc:38] TF-TRT Warning: Could not find TensorRT\n",
            "usage: tflite_convert [-h] --output_file OUTPUT_FILE\n",
            "                      [--saved_model_dir SAVED_MODEL_DIR | --keras_model_file KERAS_MODEL_FILE]\n",
            "                      [--saved_model_tag_set SAVED_MODEL_TAG_SET]\n",
            "                      [--saved_model_signature_key SAVED_MODEL_SIGNATURE_KEY]\n",
            "                      [--enable_v1_converter]\n",
            "                      [--experimental_new_converter [EXPERIMENTAL_NEW_CONVERTER]]\n",
            "                      [--experimental_new_quantizer [EXPERIMENTAL_NEW_QUANTIZER]]\n",
            "tflite_convert: error: one of the arguments --saved_model_dir --keras_model_file is required\n"
          ]
        }
      ]
    },
    {
      "cell_type": "markdown",
      "metadata": {
        "id": "OYD3j_TBbFA0"
      },
      "source": [
        "## 3. Create anchor\n",
        "- https://qiita.com/PINTO/items/1312d308b553362a8ebf#%EF%BC%96appendix"
      ]
    },
    {
      "cell_type": "code",
      "metadata": {
        "colab": {
          "base_uri": "https://localhost:8080/",
          "height": 211
        },
        "id": "1ZCMBbFmNio-",
        "outputId": "c108d965-4d44-4bf9-ff47-3cbfcbee5f25"
      },
      "source": [
        "from tensorflow.python.platform import gfile\n",
        "from tensorflow.python.framework import tensor_util\n",
        "\n",
        "GRAPH_PB_PATH = '/content/tflite_graph.pb'\n",
        "\n",
        "with tf.Session() as sess:\n",
        "  with gfile.FastGFile(GRAPH_PB_PATH,'rb') as f:\n",
        "    graph_def = tf.GraphDef()\n",
        "    graph_def.ParseFromString(f.read())\n",
        "    sess.graph.as_default()\n",
        "    tf.import_graph_def(graph_def, name='')\n",
        "    graph_nodes=[n for n in graph_def.node]\n",
        "    wts = [n for n in graph_nodes if n.op=='Const']\n",
        "    for n in wts:\n",
        "        if n.name == 'anchors':\n",
        "            print(\"Name of the node - %s\" % n.name)\n",
        "            print(\"Value - \")\n",
        "            anchors = tensor_util.MakeNdarray(n.attr['value'].tensor)\n",
        "            print(\"anchors.shape =\", anchors.shape)\n",
        "            print(anchors)\n",
        "            np.save('/content/anchors.npy', anchors)\n",
        "            np.savetxt('/content/anchors.csv', anchors, delimiter=',')\n",
        "            break"
      ],
      "execution_count": 13,
      "outputs": [
        {
          "output_type": "error",
          "ename": "AttributeError",
          "evalue": "module 'tensorflow' has no attribute 'Session'",
          "traceback": [
            "\u001b[0;31m---------------------------------------------------------------------------\u001b[0m",
            "\u001b[0;31mAttributeError\u001b[0m                            Traceback (most recent call last)",
            "\u001b[0;32m<ipython-input-13-c7785f0affa1>\u001b[0m in \u001b[0;36m<cell line: 6>\u001b[0;34m()\u001b[0m\n\u001b[1;32m      4\u001b[0m \u001b[0mGRAPH_PB_PATH\u001b[0m \u001b[0;34m=\u001b[0m \u001b[0;34m'/content/tflite_graph.pb'\u001b[0m\u001b[0;34m\u001b[0m\u001b[0;34m\u001b[0m\u001b[0m\n\u001b[1;32m      5\u001b[0m \u001b[0;34m\u001b[0m\u001b[0m\n\u001b[0;32m----> 6\u001b[0;31m \u001b[0;32mwith\u001b[0m \u001b[0mtf\u001b[0m\u001b[0;34m.\u001b[0m\u001b[0mSession\u001b[0m\u001b[0;34m(\u001b[0m\u001b[0;34m)\u001b[0m \u001b[0;32mas\u001b[0m \u001b[0msess\u001b[0m\u001b[0;34m:\u001b[0m\u001b[0;34m\u001b[0m\u001b[0;34m\u001b[0m\u001b[0m\n\u001b[0m\u001b[1;32m      7\u001b[0m   \u001b[0;32mwith\u001b[0m \u001b[0mgfile\u001b[0m\u001b[0;34m.\u001b[0m\u001b[0mFastGFile\u001b[0m\u001b[0;34m(\u001b[0m\u001b[0mGRAPH_PB_PATH\u001b[0m\u001b[0;34m,\u001b[0m\u001b[0;34m'rb'\u001b[0m\u001b[0;34m)\u001b[0m \u001b[0;32mas\u001b[0m \u001b[0mf\u001b[0m\u001b[0;34m:\u001b[0m\u001b[0;34m\u001b[0m\u001b[0;34m\u001b[0m\u001b[0m\n\u001b[1;32m      8\u001b[0m     \u001b[0mgraph_def\u001b[0m \u001b[0;34m=\u001b[0m \u001b[0mtf\u001b[0m\u001b[0;34m.\u001b[0m\u001b[0mGraphDef\u001b[0m\u001b[0;34m(\u001b[0m\u001b[0;34m)\u001b[0m\u001b[0;34m\u001b[0m\u001b[0;34m\u001b[0m\u001b[0m\n",
            "\u001b[0;31mAttributeError\u001b[0m: module 'tensorflow' has no attribute 'Session'"
          ]
        }
      ]
    },
    {
      "cell_type": "markdown",
      "metadata": {
        "id": "gbme7MiM0Nfz"
      },
      "source": [
        "https://github.com/ChrystleMyrnaLobo/tflite-object-detection/blob/master/inference.py"
      ]
    },
    {
      "cell_type": "markdown",
      "metadata": {
        "id": "VzSh6niEQYRG"
      },
      "source": [
        "## 4. Convert TensorFlow Lite Model to ONNX"
      ]
    },
    {
      "cell_type": "code",
      "metadata": {
        "id": "qveeClDk8wTX"
      },
      "source": [
        "!python -m tf2onnx.convert --tflite /content/ssdlite_mobilenet_v2.tflite \\\n",
        "--output /content/ssdlite_mobilenet_v2.onnx --opset 13"
      ],
      "execution_count": null,
      "outputs": []
    },
    {
      "cell_type": "code",
      "metadata": {
        "id": "X2YD05Zy_Ukr"
      },
      "source": [
        "onnx_model = onnx.load(\"/content/ssdlite_mobilenet_v2.onnx\")\n",
        "try:\n",
        "    onnx.checker.check_model(onnx_model)\n",
        "except onnx.checker.ValidationError as e:\n",
        "    print('The model is invalid: %s' % e)\n",
        "else:\n",
        "    print('The model is valid.')"
      ],
      "execution_count": null,
      "outputs": []
    },
    {
      "cell_type": "code",
      "metadata": {
        "id": "cMQHC2JtEjbu"
      },
      "source": [
        "onnx_model_output =[node.name for node in onnx_model.graph.output]\n",
        "print(onnx_model_output)"
      ],
      "execution_count": null,
      "outputs": []
    },
    {
      "cell_type": "code",
      "metadata": {
        "id": "2MNhFOvwFKae"
      },
      "source": [
        "input_all = [node.name for node in onnx_model.graph.input]\n",
        "input_initializer =  [node.name for node in onnx_model.graph.initializer]\n",
        "net_feed_input = list(set(input_all)  - set(input_initializer))\n",
        "\n",
        "print(net_feed_input)"
      ],
      "execution_count": null,
      "outputs": []
    },
    {
      "cell_type": "markdown",
      "metadata": {
        "id": "51d0jACEslWu"
      },
      "source": [
        "## 5. Convert ONNX Model to nnoir"
      ]
    },
    {
      "cell_type": "code",
      "metadata": {
        "id": "TTv9s02N_h2G"
      },
      "source": [
        "!onnx2nnoir -o /content/ssdlite_mobilenet_v2.nnoir /content/ssdlite_mobilenet_v2.onnx --graph_name ssdlite_mobilenet_v2"
      ],
      "execution_count": null,
      "outputs": []
    },
    {
      "cell_type": "code",
      "metadata": {
        "id": "FcEZuIjk4ojU"
      },
      "source": [
        "nnoir_model = nnoir.load('/content/ssdlite_mobilenet_v2.nnoir')"
      ],
      "execution_count": null,
      "outputs": []
    },
    {
      "cell_type": "code",
      "metadata": {
        "id": "vbHpv6hoeXhW"
      },
      "source": [
        "image = cv2.imread(\"/content/models/research/object_detection/test_images/image1.jpg\")\n",
        "image = cv2.resize(image, (300, 300))\n",
        "image_rgb = cv2.cvtColor(image, cv2.COLOR_BGR2RGB)\n",
        "image_expanded = np.expand_dims(image_rgb.astype(np.float32), axis=0)\n",
        "image_normalized =  (np.float32(image_expanded) - 127.5) / 127.5"
      ],
      "execution_count": null,
      "outputs": []
    },
    {
      "cell_type": "markdown",
      "metadata": {
        "id": "PJ3H-FPBCftn"
      },
      "source": [
        "## 6. nnoir Inference"
      ]
    },
    {
      "cell_type": "code",
      "metadata": {
        "id": "ov8XPidh4rfh"
      },
      "source": [
        "box_encodings, class_predictions = nnoir_model.run(image_normalized)"
      ],
      "execution_count": null,
      "outputs": []
    },
    {
      "cell_type": "code",
      "metadata": {
        "id": "BGGEt0VCIhYt"
      },
      "source": [
        "print(box_encodings)"
      ],
      "execution_count": null,
      "outputs": []
    },
    {
      "cell_type": "code",
      "metadata": {
        "id": "cd3zZaXWFN7e"
      },
      "source": [
        "print(class_predictions)"
      ],
      "execution_count": null,
      "outputs": []
    },
    {
      "cell_type": "code",
      "metadata": {
        "id": "ILeAJrAjpQVR"
      },
      "source": [
        "labels = np.array([], dtype=int)\n",
        "result_labels = np.append(labels, np.argmax(class_predictions[0], axis=1))"
      ],
      "execution_count": null,
      "outputs": []
    },
    {
      "cell_type": "code",
      "metadata": {
        "id": "3jNLwL8zpS37"
      },
      "source": [
        "# Get Indexes that predict something other than background.\n",
        "indexes_not_background = np.where(result_labels!=0)"
      ],
      "execution_count": null,
      "outputs": []
    },
    {
      "cell_type": "code",
      "metadata": {
        "id": "3aCzoM1Qp6P0"
      },
      "source": [
        "labels_not_background = np.take(result_labels, indexes_not_background)"
      ],
      "execution_count": null,
      "outputs": []
    },
    {
      "cell_type": "code",
      "metadata": {
        "id": "Hz9IrVziqtvO"
      },
      "source": [
        "scores = []\n",
        "scores.append(list(map(max, class_predictions[0])))\n",
        "scores_not_background = np.take(scores[0], indexes_not_background)"
      ],
      "execution_count": null,
      "outputs": []
    },
    {
      "cell_type": "code",
      "metadata": {
        "id": "w6_sLkVErmXU"
      },
      "source": [
        "# from pipeline.config\n",
        "y_scale = 10.0\n",
        "x_scale = 10.0\n",
        "h_scale = 5.0\n",
        "w_scale = 5.0\n",
        "\n",
        "def decode_box_encodings(box_encoding, anchors, num_boxes):\n",
        "    decoded_boxes = np.zeros((num_boxes, 4), dtype=np.float32)\n",
        "    for i in range(num_boxes):\n",
        "        ycenter = box_encoding[i][0] / y_scale * anchors[i][2] + anchors[i][0]\n",
        "        xcenter = box_encoding[i][1] / x_scale * anchors[i][3] + anchors[i][1]\n",
        "        half_h = 0.5 * math.exp((box_encoding[i][2] / h_scale)) * anchors[i][2]\n",
        "        half_w = 0.5 * math.exp((box_encoding[i][3] / w_scale)) * anchors[i][3]\n",
        "        decoded_boxes[i][0] = (xcenter - half_w) # xmin\n",
        "        decoded_boxes[i][1] = (ycenter - half_h) # ymin\n",
        "        decoded_boxes[i][2] = (xcenter + half_w) # xmax\n",
        "        decoded_boxes[i][3] = (ycenter + half_h) # ymax\n",
        "    return decoded_boxes"
      ],
      "execution_count": null,
      "outputs": []
    },
    {
      "cell_type": "code",
      "metadata": {
        "id": "qXz_LcgLsjcv"
      },
      "source": [
        "anchors = np.load('/content/anchors.npy')\n",
        "box_decoded = decode_box_encodings(box_encodings[0], anchors, 1917)\n",
        "box_not_background = np.take(box_decoded, indexes_not_background, axis=0)\n",
        "box_clipped = box_not_background.clip(0, 1)"
      ],
      "execution_count": null,
      "outputs": []
    },
    {
      "cell_type": "code",
      "metadata": {
        "id": "827CCF-iu1eu"
      },
      "source": [
        "nms_boxes, nms_scores, nms_labels = nms(box_clipped.tolist(), scores_not_background.tolist(), labels_not_background.tolist(), iou_thr=0.5)"
      ],
      "execution_count": null,
      "outputs": []
    },
    {
      "cell_type": "code",
      "metadata": {
        "id": "NH6QrKDSxO4L"
      },
      "source": [
        "image_pil = Image.fromarray(image_rgb)\n",
        "image_pil"
      ],
      "execution_count": null,
      "outputs": []
    },
    {
      "cell_type": "code",
      "metadata": {
        "id": "K9m05kzuZM3P"
      },
      "source": [
        "coco_labels = ['background']\n",
        "with open(\"/content/coco-labels-paper.txt\",'r') as f:\n",
        "  for line in f:\n",
        "    coco_labels.append(line.rstrip())"
      ],
      "execution_count": null,
      "outputs": []
    },
    {
      "cell_type": "code",
      "metadata": {
        "id": "10G8kpKcvN_6"
      },
      "source": [
        "coco_labels_length = len(coco_labels)\n",
        "draw = ImageDraw.Draw(image_pil)\n",
        "for box, score, label in zip(nms_boxes, nms_scores, nms_labels):\n",
        "  if score> 0.5 and label > 0 and label < coco_labels_length:\n",
        "    xmin = box[0]*300\n",
        "    ymin = box[1]*300\n",
        "    xmax = box[2]*300\n",
        "    ymax = box[3]*300\n",
        "    draw.rectangle((xmin, ymin, xmax, ymax), outline=(0, 0, 255), width=2)\n",
        "    draw.text([xmin+2, ymin+2], text=coco_labels[label])"
      ],
      "execution_count": null,
      "outputs": []
    },
    {
      "cell_type": "code",
      "metadata": {
        "id": "gilM-lMj4wO-"
      },
      "source": [
        "image_pil"
      ],
      "execution_count": null,
      "outputs": []
    }
  ]
}